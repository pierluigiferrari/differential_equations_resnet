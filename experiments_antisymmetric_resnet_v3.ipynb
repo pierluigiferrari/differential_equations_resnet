{
 "cells": [
  {
   "cell_type": "code",
   "execution_count": 1,
   "metadata": {},
   "outputs": [
    {
     "name": "stdout",
     "output_type": "stream",
     "text": [
      "TensorFlow version: 1.12.0\n"
     ]
    }
   ],
   "source": [
    "import tensorflow as tf\n",
    "import numpy as np\n",
    "from matplotlib import pyplot as plt\n",
    "from tqdm import trange\n",
    "import sys\n",
    "\n",
    "from models.tfkeras_resnets import build_single_block_resnet, build_resnet\n",
    "from dataset_utils.tf_dataset_preprocessors_image_classification import UnpackImagesLabels, ConvertLabelsToOneHot, DecodeImages, DecodeJPEGImages, ResizeWithPad, RandomFlipLeftRight, RandomCrop, Resize\n",
    "from dataset_utils.tfrecord_dataset_creator import TFRecordDatasetCreator, get_tfrecord_paths\n",
    "from training.training_v2 import Training\n",
    "\n",
    "from tensorflow.train import AdamOptimizer\n",
    "\n",
    "print(\"TensorFlow version: {}\".format(tf.__version__))\n",
    "\n",
    "%matplotlib inline"
   ]
  },
  {
   "cell_type": "code",
   "execution_count": 2,
   "metadata": {},
   "outputs": [],
   "source": [
    "num_classes = 257\n",
    "image_size = (224, 224, 3)\n",
    "\n",
    "blocks_resnet50  = [3, 4,  6, 3]\n",
    "blocks_resnet101 = [3, 4, 23, 3]\n",
    "blocks_resnet152 = [3, 8, 36, 3]"
   ]
  },
  {
   "cell_type": "code",
   "execution_count": 3,
   "metadata": {},
   "outputs": [],
   "source": [
    "tf.keras.backend.clear_session()\n",
    "\n",
    "resnet = build_resnet(image_size=image_size,\n",
    "                        kernel_type='regular',#'antisymmetric',\n",
    "                        include_top=True,\n",
    "                        fc_activation=None,\n",
    "                        num_classes=num_classes,\n",
    "                        l2_regularization=0.0,\n",
    "                        subtract_mean=127.5,\n",
    "                        divide_by_stddev=127.5,\n",
    "                        version=1,\n",
    "                        preset=None,#'resnet50',\n",
    "                        blocks_per_stage=[2, 2, 2, 2],\n",
    "                        filters_per_block=[[64, 64, 128],\n",
    "                                           [64, 64, 256],\n",
    "                                           [128, 128, 512],\n",
    "                                           [256, 256, 1024]],\n",
    "                        use_batch_norm=False)"
   ]
  },
  {
   "cell_type": "code",
   "execution_count": 4,
   "metadata": {},
   "outputs": [],
   "source": [
    "train_directory = '/pierluigiferrari/datasets/Caltech256/train/'\n",
    "val_directory = '/pierluigiferrari/datasets/Caltech256/val/'\n",
    "\n",
    "feature_schema = {'image': tf.FixedLenFeature([], tf.string),\n",
    "                  'filename': tf.FixedLenFeature([], tf.string),\n",
    "                  'label': tf.FixedLenFeature([], tf.int64)}\n",
    "\n",
    "unpack_images_labels = UnpackImagesLabels()\n",
    "decode_images = DecodeJPEGImages(channels=3)\n",
    "random_crop = RandomCrop(aspect_ratio=1,\n",
    "                         scale=1.0,\n",
    "                         channels=3,\n",
    "                         num_parallel_calls=None)\n",
    "resize = Resize(target_size=image_size[:2])\n",
    "resize_with_pad = ResizeWithPad(target_size=image_size[:2])\n",
    "random_flip_left_right = RandomFlipLeftRight()\n",
    "convert_labels_to_one_hot = ConvertLabelsToOneHot(num_classes=257)\n",
    "\n",
    "train_preprocessors = [unpack_images_labels,\n",
    "                       decode_images,\n",
    "                       random_flip_left_right,\n",
    "                       resize_with_pad,\n",
    "                       convert_labels_to_one_hot]\n",
    "\n",
    "val_preprocessors = [unpack_images_labels,\n",
    "                     decode_images,\n",
    "                     resize_with_pad,\n",
    "                     convert_labels_to_one_hot]\n",
    "\n",
    "train_dataset_creator = TFRecordDatasetCreator(tfrecord_paths=get_tfrecord_paths(directory=train_directory, extension='tfrecord'),\n",
    "                                               feature_schema=feature_schema,\n",
    "                                               batch_size=32,\n",
    "                                               preprocessors=train_preprocessors,\n",
    "                                               repeat=True,\n",
    "                                               num_epochs=None,\n",
    "                                               shuffle=True,\n",
    "                                               shuffle_buffer_size=10000,\n",
    "                                               num_parallel_reads=None,\n",
    "                                               num_parallel_calls=None)\n",
    "\n",
    "val_dataset_creator = TFRecordDatasetCreator(tfrecord_paths=get_tfrecord_paths(directory=val_directory, extension='tfrecord'),\n",
    "                                             feature_schema=feature_schema,\n",
    "                                             batch_size=32,\n",
    "                                             preprocessors=val_preprocessors,\n",
    "                                             repeat=True,\n",
    "                                             num_epochs=None,\n",
    "                                             shuffle=False,\n",
    "                                             shuffle_buffer_size=10000,\n",
    "                                             num_parallel_reads=None,\n",
    "                                             num_parallel_calls=None)\n",
    "\n",
    "train_dataset = train_dataset_creator.create_dataset()\n",
    "val_dataset = val_dataset_creator.create_dataset()"
   ]
  },
  {
   "cell_type": "code",
   "execution_count": 5,
   "metadata": {},
   "outputs": [],
   "source": [
    "iterator = train_dataset.make_one_shot_iterator()\n",
    "features, labels = iterator.get_next()\n",
    "\n",
    "model_output = resnet(features)\n",
    "\n",
    "loss = tf.reduce_mean(tf.nn.softmax_cross_entropy_with_logits_v2(labels=tf.stop_gradient(labels), logits=model_output))\n",
    "\n",
    "train_op = tf.train.AdamOptimizer().minimize(loss)\n",
    "\n",
    "softmax_output = tf.nn.softmax(model_output, name='softmax_output')\n",
    "predictions_argmax = tf.argmax(softmax_output, axis=-1, name='predictions_argmax', output_type=tf.int64)\n",
    "labels_argmax = tf.argmax(labels, axis=-1, name='labels_argmax', output_type=tf.int64)\n",
    "\n",
    "mean_loss_value, mean_loss_update_op = tf.metrics.mean(loss)\n",
    "acc_value, acc_update_op = tf.metrics.accuracy(labels=labels_argmax, predictions=predictions_argmax)"
   ]
  },
  {
   "cell_type": "code",
   "execution_count": 6,
   "metadata": {},
   "outputs": [],
   "source": [
    "epochs = 3\n",
    "steps_per_epoch = 1000"
   ]
  },
  {
   "cell_type": "code",
   "execution_count": 7,
   "metadata": {},
   "outputs": [
    {
     "name": "stdout",
     "output_type": "stream",
     "text": [
      "Epoch 1/3: 100%|██████████| 1000/1000 [02:48<00:00,  6.66it/s, loss=4.95, accuracy=0.0797]\n",
      "Epoch 2/3: 100%|██████████| 1000/1000 [02:21<00:00, 11.30it/s, loss=4.85, accuracy=0.0922]\n",
      "Epoch 3/3: 100%|██████████| 1000/1000 [02:48<00:00,  6.52it/s, loss=4.93, accuracy=0.0954] \n"
     ]
    }
   ],
   "source": [
    "with tf.Session() as sess:\n",
    "\n",
    "    sess.run(tf.global_variables_initializer())\n",
    "    sess.run(tf.local_variables_initializer())\n",
    "    \n",
    "    for epoch in range(1, epochs+1):\n",
    "\n",
    "        tr = trange(steps_per_epoch, file=sys.stdout)\n",
    "        tr.set_description('Epoch {}/{}'.format(epoch, epochs))\n",
    "\n",
    "        for train_step in tr:\n",
    "\n",
    "            _a, _b, mean_loss, _c, accuracy = sess.run([train_op,\n",
    "                                                        mean_loss_update_op,\n",
    "                                                        mean_loss_value,\n",
    "                                                        acc_update_op,\n",
    "                                                        acc_value])\n",
    "\n",
    "            tr.set_postfix(ordered_dict={'loss': mean_loss,\n",
    "                                         'accuracy': accuracy})"
   ]
  },
  {
   "cell_type": "code",
   "execution_count": 5,
   "metadata": {},
   "outputs": [
    {
     "name": "stdout",
     "output_type": "stream",
     "text": [
      "Epoch 1/5\n",
      "1000/1000 [==============================] - 274s 274ms/step - loss: 4.7559 - acc: 0.0989 - val_loss: 4.4607 - val_acc: 0.1230\n",
      "Epoch 2/5\n",
      "1000/1000 [==============================] - 241s 241ms/step - loss: 3.9325 - acc: 0.1750 - val_loss: 3.8046 - val_acc: 0.1926\n",
      "Epoch 3/5\n",
      "1000/1000 [==============================] - 262s 262ms/step - loss: 3.4028 - acc: 0.2457 - val_loss: 3.4681 - val_acc: 0.2456\n",
      "Epoch 4/5\n",
      "1000/1000 [==============================] - 256s 256ms/step - loss: 2.9319 - acc: 0.3213 - val_loss: 3.1591 - val_acc: 0.3051\n",
      "Epoch 5/5\n",
      "1000/1000 [==============================] - 236s 236ms/step - loss: 2.5671 - acc: 0.3851 - val_loss: 2.9143 - val_acc: 0.3465\n",
      "240/240 [==============================] - 33s 139ms/step\n"
     ]
    }
   ],
   "source": [
    "resnet.compile(optimizer='adam',\n",
    "               loss='categorical_crossentropy',\n",
    "               metrics=['accuracy'])\n",
    "\n",
    "history = resnet.fit(train_dataset,\n",
    "                     epochs=epochs,\n",
    "                     steps_per_epoch=steps_per_epoch)"
   ]
  },
  {
   "cell_type": "code",
   "execution_count": 6,
   "metadata": {},
   "outputs": [
    {
     "name": "stdout",
     "output_type": "stream",
     "text": [
      "(60000, 28, 28, 1)\n",
      "5\n"
     ]
    }
   ],
   "source": [
    "mnist = tf.keras.datasets.mnist\n",
    "\n",
    "(x_train, y_train),(x_test, y_test) = mnist.load_data()\n",
    "\n",
    "x_train = np.expand_dims(x_train, axis=-1)\n",
    "x_test = np.expand_dims(x_test, axis=-1)\n",
    "\n",
    "print(x_train.shape)\n",
    "print(y_train[0])"
   ]
  },
  {
   "cell_type": "code",
   "execution_count": null,
   "metadata": {
    "collapsed": true
   },
   "outputs": [],
   "source": []
  }
 ],
 "metadata": {
  "kernelspec": {
   "display_name": "Python 3",
   "language": "python",
   "name": "python3"
  },
  "language_info": {
   "codemirror_mode": {
    "name": "ipython",
    "version": 3
   },
   "file_extension": ".py",
   "mimetype": "text/x-python",
   "name": "python",
   "nbconvert_exporter": "python",
   "pygments_lexer": "ipython3",
   "version": "3.5.2"
  },
  "widgets": {
   "state": {},
   "version": "1.1.2"
  }
 },
 "nbformat": 4,
 "nbformat_minor": 2
}
